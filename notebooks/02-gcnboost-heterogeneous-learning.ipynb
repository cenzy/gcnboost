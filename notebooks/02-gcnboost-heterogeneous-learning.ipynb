{
 "cells": [
  {
   "cell_type": "code",
   "execution_count": 1,
   "metadata": {},
   "outputs": [
    {
     "name": "stdout",
     "output_type": "stream",
     "text": [
      "/home/jbananafish/Desktop/Master/Thesis/code/gcnboost\n"
     ]
    }
   ],
   "source": [
    "%cd .."
   ]
  },
  {
   "cell_type": "code",
   "execution_count": 2,
   "metadata": {},
   "outputs": [],
   "source": [
    "from tqdm import tqdm\n",
    "import torch\n",
    "import torch.nn.functional as F\n",
    "from torch_geometric.nn import GCNConv, SAGEConv, Linear, GraphConv, GATConv, BatchNorm, to_hetero\n",
    "import torch_geometric.transforms as T\n",
    "import torch_geometric.nn as operators\n",
    "\n",
    "from src.data.artgraph import ArtGraph"
   ]
  },
  {
   "cell_type": "code",
   "execution_count": 3,
   "metadata": {},
   "outputs": [],
   "source": [
    "torch.manual_seed(1)\n",
    "torch.cuda.manual_seed(1)"
   ]
  },
  {
   "cell_type": "code",
   "execution_count": 4,
   "metadata": {},
   "outputs": [],
   "source": [
    "class HeteroGNN(torch.nn.Module):\n",
    "    def __init__(self, operator=SAGEConv, activation=torch.nn.ReLU, hidden_channels=16, out_channels=300, num_layers=1, dropout=0.5, bn=False, skip=False):\n",
    "        super(HeteroGNN, self).__init__()\n",
    "        self.dropout = dropout\n",
    "        self.bn = bn\n",
    "        self.skip = skip\n",
    "        self.activation = activation\n",
    "        self.convs = torch.nn.ModuleList()\n",
    "        self.lins = torch.nn.ModuleList()\n",
    "        self.bns = torch.nn.ModuleList()\n",
    "        for _ in range(num_layers):\n",
    "            conv = operator((-1, -1), hidden_channels)\n",
    "            lin = Linear(-1, hidden_channels)\n",
    "            bn = torch.nn.BatchNorm1d(hidden_channels)\n",
    "            self.convs.append(conv)\n",
    "            self.lins.append(lin)\n",
    "            self.bns.append(bn)\n",
    "        self.conv_out = operator((-1, -1), out_channels)\n",
    "\n",
    "    def forward(self, x, edge_index):\n",
    "        for i, conv in enumerate(self.convs):\n",
    "            if self.skip:\n",
    "                x = conv(x, edge_index) + self.lins[i](x)\n",
    "            else:\n",
    "                x = conv(x, edge_index)\n",
    "                \n",
    "            if self.bn:\n",
    "                x = self.bns[i](x)\n",
    "            x = self.activation(x)\n",
    "\n",
    "            if self.training:\n",
    "                x = F.dropout(x, self.dropout)\n",
    "        x = self.conv_out(x, edge_index)\n",
    "        return F.log_softmax(x, dim=1)"
   ]
  },
  {
   "cell_type": "code",
   "execution_count": 5,
   "metadata": {},
   "outputs": [],
   "source": [
    "class HeteroSGNN(torch.nn.Module):\n",
    "    def __init__(self, operator, activation, aggr, hidden_channels, out_channels, metadata, n_layers, dropout, bn, skip):\n",
    "        super(HeteroSGNN, self).__init__()\n",
    "        self.gnn = HeteroGNN(operator, activation, hidden_channels, out_channels, n_layers, dropout, bn, skip)\n",
    "        self.gnn = to_hetero(self.gnn, metadata, aggr=aggr)\n",
    "\n",
    "    def forward(self, x, edge_index):\n",
    "        return [self.gnn(x, edge_index)]\n",
    "\n",
    "class HeteroMGNN(torch.nn.Module):\n",
    "    def __init__(self, operator, activation, aggr, hidden_channels, out_channels, metadata, n_layers, dropout, bn, skip):\n",
    "        super(HeteroMGNN, self).__init__()\n",
    "        self.gnn_artist = HeteroGNN(operator, activation, hidden_channels, out_channels['artist'], n_layers, dropout, bn, skip)\n",
    "        self.gnn_artist = to_hetero(self.gnn_artist, metadata, aggr=aggr)\n",
    "\n",
    "        self.gnn_style = HeteroGNN(operator, activation, hidden_channels, out_channels['style'], n_layers, dropout, bn, skip)\n",
    "        self.gnn_style = to_hetero(self.gnn_style, metadata, aggr=aggr)\n",
    "\n",
    "        self.gnn_genre = HeteroGNN(operator, activation, hidden_channels, out_channels['genre'], n_layers, dropout, bn, skip)\n",
    "        self.gnn_genre = to_hetero(self.gnn_genre, metadata,aggr=aggr)\n",
    "\n",
    "    def forward(self, x, edge_index):\n",
    "        return [self.gnn_artist(x, edge_index), self.gnn_style(x, edge_index), self.gnn_genre(x, edge_index)]"
   ]
  },
  {
   "cell_type": "code",
   "execution_count": 18,
   "metadata": {},
   "outputs": [],
   "source": [
    "class ArtGraphGCNBoost:\n",
    "\n",
    "    operator_registry = {\n",
    "        'SAGEConv': operators.SAGEConv,\n",
    "        'GraphConv': operators.GraphConv,\n",
    "        'GATConv': operators.GATConv,\n",
    "        'GCNConv': operators.GCNConv\n",
    "    }\n",
    "    \n",
    "    activation_registry = {\n",
    "        'relu': torch.nn.ReLU(),\n",
    "        'prelu': torch.nn.PReLU()\n",
    "    }\n",
    "\n",
    "    map_id2labels = {\n",
    "        0: 'artist',\n",
    "        1: 'style',\n",
    "        2: 'genre'\n",
    "    }\n",
    "\n",
    "    map_labels2id = {\n",
    "        'artist': 0,\n",
    "        'style': 1,\n",
    "        'genre': 2\n",
    "    }\n",
    "\n",
    "    def __init__(self, args, graph_type='hetero', training_mode='multi_task'):\n",
    "        \n",
    "        self.graph_type = graph_type\n",
    "        self.traning_mode = training_mode\n",
    "        assert graph_type in ['hetero', 'homo']\n",
    "        assert training_mode in ['multi_task', 'single_task']\n",
    "        assert args.operator in self.operator_registry.keys()\n",
    "\n",
    "        self.base_data, self.data, self.y, self.model, self.optimizer = self._bootstrap(args)\n",
    "        self.artworks = self.base_data[0]['artwork']\n",
    "        self.train_mask = self.artworks.train_mask\n",
    "        self.val_mask = self.artworks.val_mask\n",
    "        self.test_mask = self.artworks.test_mask\n",
    "\n",
    "    def _bootstrap(self, args):\n",
    "        base_data = ArtGraph(\"data\", preprocess='constant', features=True, type='ekg')\n",
    "        data = base_data[0]\n",
    "        def del_some_nodes():\n",
    "            del data['gallery']\n",
    "            del data['city']\n",
    "            del data['country']\n",
    "            del data['auction']\n",
    "            del data['media']\n",
    "            del data['tag']\n",
    "            del data['period']\n",
    "            del data['serie']\n",
    "            del data['subject']\n",
    "            del data['people']\n",
    "            del data['training_node']\n",
    "\n",
    "            del data['artwork', 'auction_rel', 'auction']\n",
    "            del data['city', 'country_rel', 'country']\n",
    "            del data['gallery', 'city_rel', 'city']\n",
    "            del data['gallery', 'country_rel', 'country']\n",
    "            del data['artwork', 'locatedin_rel', 'gallery']\n",
    "            del data['artwork', 'completedin_rel', 'city']\n",
    "\n",
    "            del data['artwork', 'media_rel', 'media']\n",
    "            del data['artwork', 'about_rel', 'tag']\n",
    "            del data['artwork', 'period_rel', 'period']\n",
    "            del data['artwork', 'serie_rel', 'serie']\n",
    "            del data['people', 'patrons_rel', 'artist']\n",
    "\n",
    "            del data['artist', 'influenced_rel', 'artist']\n",
    "            del data['artist', 'subject_rel', 'subject']\n",
    "            del data['artist', 'training_rel', 'artist']\n",
    "            del data['artist', 'training_rel', 'training_node']\n",
    "            del data['artist', 'patrons_rel', 'people']\n",
    "            del data['artist', 'teacher_rel', 'artist']\n",
    "        data = T.ToUndirected()(data)\n",
    "        if self.traning_mode == 'multi_task':\n",
    "            model = HeteroMGNN(operator=self.operator_registry[args.operator], \n",
    "                            activation=self.activation_registry[args.activation],\n",
    "                            aggr=args.aggr, \n",
    "                            hidden_channels=args.hidden, \n",
    "                            out_channels=base_data.num_classes, \n",
    "                            metadata=data.metadata(),\n",
    "                            n_layers=args.nlayers, \n",
    "                            dropout=args.dropout,\n",
    "                            bn=args.bn,\n",
    "                            skip=args.skip)\n",
    "            y = torch.stack([base_data[0]['artwork'].y_artist, base_data[0]['artwork'].y_style, base_data[0]['artwork'].y_genre])\n",
    "        if self.traning_mode == 'single_task':\n",
    "            model = HeteroSGNN(operator=self.operator_registry[args.operator], \n",
    "                            activation=self.activation_registry[args.activation],\n",
    "                            aggr=args.aggr, \n",
    "                            hidden_channels=args.hidden, \n",
    "                            out_channels=base_data.num_classes[args.label], \n",
    "                            metadata=data.metadata(),\n",
    "                            n_layers=args.nlayers, \n",
    "                            dropout=args.dropout,\n",
    "                            bn=args.bn,\n",
    "                            skip=args.skip)\n",
    "            y = torch.stack([base_data[0]['artwork'][f'y_{args.label}']])\n",
    "\n",
    "        \n",
    "        optimizer = torch.optim.Adam(model.parameters(), lr=args.lr, weight_decay=3e-4)\n",
    "        \n",
    "        return base_data, data, y, model, optimizer\n",
    "\n",
    "    def get_accuracy(self, predicted, labels):\n",
    "        return predicted.argmax(dim=1).eq(labels).sum()/predicted.shape[0]\n",
    "\n",
    "    def get_accuracies(self, predicted, labels, mask):\n",
    "        accuracies = [] \n",
    "        for i, _ in enumerate(labels):\n",
    "            accuracies.append(self.get_accuracy(predicted[i]['artwork'][mask], labels[i][mask]))\n",
    "        return accuracies\n",
    "\n",
    "    def get_loss(self, predicted, labels):\n",
    "        return F.nll_loss(predicted, labels.type(torch.LongTensor))\n",
    "\n",
    "    def get_losses(self, predicted, labels, mask):\n",
    "        losses = []\n",
    "        for i, _ in enumerate(labels):\n",
    "            losses.append(self.get_loss(predicted[i]['artwork'][mask], labels[i][mask]))\n",
    "        return losses\n",
    "\n",
    "    def hetero_training(self):\n",
    "        self.model.train()\n",
    "        self.optimizer.zero_grad()\n",
    "        out = self.model(self.data.x_dict, self.data.edge_index_dict)\n",
    "\n",
    "        train_losses = self.get_losses(out, self.y, self.train_mask)\n",
    "        train_total_loss = sum(train_losses)\n",
    "\n",
    "        train_total_loss.backward()\n",
    "        self.optimizer.step()\n",
    "\n",
    "        train_accuracies = self.get_accuracies(out, self.y, self.train_mask)\n",
    "\n",
    "        return out, train_losses, train_accuracies\n",
    "        \n",
    "    @torch.no_grad()\n",
    "    def hetero_test(self):\n",
    "        self.model.eval()\n",
    "        out = self.model(self.data.x_dict, self.data.edge_index_dict)\n",
    "        val_losses = self.get_losses(out, self.y, self.val_mask)\n",
    "        test_losses = self.get_losses(out, self.y, self.test_mask)\n",
    "\n",
    "        val_accuracies = self.get_accuracies(out, self.y, self.val_mask)\n",
    "        test_accuracies = self.get_accuracies(out, self.y, self.test_mask)\n",
    "\n",
    "        return val_losses, val_accuracies, test_losses, test_accuracies"
   ]
  },
  {
   "cell_type": "code",
   "execution_count": 20,
   "metadata": {},
   "outputs": [],
   "source": [
    "import argparse\n",
    "\n",
    "parser = argparse.ArgumentParser()\n",
    "parser.add_argument('--exp', type=str, default='default', help='Experiment name.')\n",
    "parser.add_argument('--type', type=str, default='hetero', help='Graph type (hetero|homo).')\n",
    "parser.add_argument('--mode', type=str, default='single_task', help='Training mode (multi_task|single_task).')\n",
    "parser.add_argument('--label', type=str, default='genre', help='Label to predict (artist|style|genre).')\n",
    "parser.add_argument('--epochs', type=int, default=200, help='Number of epochs to train.')\n",
    "parser.add_argument('--lr', type=float, default=0.001, help='Initial learning rate.')\n",
    "parser.add_argument('--hidden', type=int, default=16, help='Number of hidden units.')\n",
    "parser.add_argument('--nlayers', type=int, default=1, help='Number of layers.')\n",
    "parser.add_argument('--dropout', type=float, default=0, help='Dropout rate (1 - keep probability).')\n",
    "parser.add_argument('--operator', type=str, default='SAGEConv', help='The graph convolutional operator.')\n",
    "parser.add_argument('--activation', type=str, default='relu', help='The activation function.')\n",
    "parser.add_argument('--aggr', type=str, default='sum', help='Aggregation function.')\n",
    "parser.add_argument('--skip', action='store_true', default='False', help='Add skip connection.')\n",
    "parser.add_argument('--bn', action='store_true', default='False', help='Add batch normalization.')\n",
    "args, unknown = parser.parse_known_args()"
   ]
  },
  {
   "cell_type": "code",
   "execution_count": 21,
   "metadata": {},
   "outputs": [],
   "source": [
    "gcn = ArtGraphGCNBoost(args, training_mode=args.mode)"
   ]
  },
  {
   "cell_type": "code",
   "execution_count": 22,
   "metadata": {},
   "outputs": [
    {
     "data": {
      "text/plain": [
       "HeteroData(\n",
       "  \u001b[1martwork\u001b[0m={\n",
       "    x=[61477, 128],\n",
       "    y_artist=[61477],\n",
       "    y_style=[61477],\n",
       "    y_genre=[61477],\n",
       "    train_mask=[61477],\n",
       "    val_mask=[61477],\n",
       "    test_mask=[61477]\n",
       "  },\n",
       "  \u001b[1martist\u001b[0m={ x=[300, 128] },\n",
       "  \u001b[1mstyle\u001b[0m={ x=[83, 128] },\n",
       "  \u001b[1mgenre\u001b[0m={ x=[50, 128] },\n",
       "  \u001b[1mfield\u001b[0m={ x=[65, 128] },\n",
       "  \u001b[1mmovement\u001b[0m={ x=[121, 128] },\n",
       "  \u001b[1m(artist, field_rel, field)\u001b[0m={ edge_index=[2, 323] },\n",
       "  \u001b[1m(artist, movement_rel, movement)\u001b[0m={ edge_index=[2, 286] },\n",
       "  \u001b[1m(artwork, genre_rel, genre)\u001b[0m={ edge_index=[2, 61820] },\n",
       "  \u001b[1m(artwork, style_rel, style)\u001b[0m={ edge_index=[2, 63157] },\n",
       "  \u001b[1m(artwork, author_rel, artist)\u001b[0m={ edge_index=[2, 61477] },\n",
       "  \u001b[1m(field, rev_field_rel, artist)\u001b[0m={ edge_index=[2, 323] },\n",
       "  \u001b[1m(movement, rev_movement_rel, artist)\u001b[0m={ edge_index=[2, 286] },\n",
       "  \u001b[1m(genre, rev_genre_rel, artwork)\u001b[0m={ edge_index=[2, 61820] },\n",
       "  \u001b[1m(style, rev_style_rel, artwork)\u001b[0m={ edge_index=[2, 63157] },\n",
       "  \u001b[1m(artist, rev_author_rel, artwork)\u001b[0m={ edge_index=[2, 61477] }\n",
       ")"
      ]
     },
     "execution_count": 22,
     "metadata": {},
     "output_type": "execute_result"
    }
   ],
   "source": [
    "gcn.data"
   ]
  },
  {
   "cell_type": "code",
   "execution_count": 23,
   "metadata": {},
   "outputs": [
    {
     "name": "stderr",
     "output_type": "stream",
     "text": [
      "  0%|          | 1/200 [00:03<11:27,  3.45s/it]"
     ]
    },
    {
     "name": "stdout",
     "output_type": "stream",
     "text": [
      "genre_train_loss 4.7222\n",
      "genre_train_accuracy 1.0\n",
      "genre_val_loss 4.6047\n",
      "genre_val_accuracy 1.0\n",
      "genre_test_loss 4.6205\n",
      "genre_test_accuracy 1.0\n"
     ]
    },
    {
     "name": "stderr",
     "output_type": "stream",
     "text": [
      "  1%|          | 2/200 [00:06<11:18,  3.42s/it]"
     ]
    },
    {
     "name": "stdout",
     "output_type": "stream",
     "text": [
      "genre_train_loss 4.456\n",
      "genre_train_accuracy 1.0\n",
      "genre_val_loss 4.3677\n",
      "genre_val_accuracy 1.0\n",
      "genre_test_loss 4.3985\n",
      "genre_test_accuracy 1.0\n"
     ]
    },
    {
     "name": "stderr",
     "output_type": "stream",
     "text": [
      "  2%|▏         | 3/200 [00:10<12:14,  3.73s/it]"
     ]
    },
    {
     "name": "stdout",
     "output_type": "stream",
     "text": [
      "genre_train_loss 4.2044\n",
      "genre_train_accuracy 1.0\n",
      "genre_val_loss 4.1552\n",
      "genre_val_accuracy 2.0\n",
      "genre_test_loss 4.2013\n",
      "genre_test_accuracy 2.0\n"
     ]
    },
    {
     "name": "stderr",
     "output_type": "stream",
     "text": [
      "  2%|▏         | 4/200 [00:14<12:16,  3.76s/it]"
     ]
    },
    {
     "name": "stdout",
     "output_type": "stream",
     "text": [
      "genre_train_loss 3.9663\n",
      "genre_train_accuracy 2.0\n",
      "genre_val_loss 3.9583\n",
      "genre_val_accuracy 2.0\n",
      "genre_test_loss 4.0207\n",
      "genre_test_accuracy 2.0\n"
     ]
    },
    {
     "name": "stderr",
     "output_type": "stream",
     "text": [
      "  2%|▎         | 5/200 [00:18<11:54,  3.67s/it]"
     ]
    },
    {
     "name": "stdout",
     "output_type": "stream",
     "text": [
      "genre_train_loss 3.743\n",
      "genre_train_accuracy 4.0\n",
      "genre_val_loss 3.7722\n",
      "genre_val_accuracy 4.0\n",
      "genre_test_loss 3.8525\n",
      "genre_test_accuracy 3.0\n"
     ]
    },
    {
     "name": "stderr",
     "output_type": "stream",
     "text": [
      "  3%|▎         | 6/200 [00:21<11:22,  3.52s/it]"
     ]
    },
    {
     "name": "stdout",
     "output_type": "stream",
     "text": [
      "genre_train_loss 3.5329\n",
      "genre_train_accuracy 7.000000000000001\n",
      "genre_val_loss 3.5972\n",
      "genre_val_accuracy 6.0\n",
      "genre_test_loss 3.6953\n",
      "genre_test_accuracy 5.0\n"
     ]
    },
    {
     "name": "stderr",
     "output_type": "stream",
     "text": [
      "  4%|▎         | 7/200 [00:25<11:25,  3.55s/it]"
     ]
    },
    {
     "name": "stdout",
     "output_type": "stream",
     "text": [
      "genre_train_loss 3.3336\n",
      "genre_train_accuracy 12.0\n",
      "genre_val_loss 3.4311\n",
      "genre_val_accuracy 9.0\n",
      "genre_test_loss 3.5467\n",
      "genre_test_accuracy 8.0\n"
     ]
    },
    {
     "name": "stderr",
     "output_type": "stream",
     "text": [
      "  4%|▍         | 8/200 [00:28<11:12,  3.50s/it]"
     ]
    },
    {
     "name": "stdout",
     "output_type": "stream",
     "text": [
      "genre_train_loss 3.149\n",
      "genre_train_accuracy 18.0\n",
      "genre_val_loss 3.2719\n",
      "genre_val_accuracy 13.0\n",
      "genre_test_loss 3.406\n",
      "genre_test_accuracy 13.0\n"
     ]
    },
    {
     "name": "stderr",
     "output_type": "stream",
     "text": [
      "  4%|▍         | 9/200 [00:31<11:03,  3.47s/it]"
     ]
    },
    {
     "name": "stdout",
     "output_type": "stream",
     "text": [
      "genre_train_loss 2.9761\n",
      "genre_train_accuracy 24.0\n",
      "genre_val_loss 3.1172\n",
      "genre_val_accuracy 18.0\n",
      "genre_test_loss 3.2707\n",
      "genre_test_accuracy 17.0\n"
     ]
    },
    {
     "name": "stderr",
     "output_type": "stream",
     "text": [
      "  5%|▌         | 10/200 [00:35<11:11,  3.54s/it]"
     ]
    },
    {
     "name": "stdout",
     "output_type": "stream",
     "text": [
      "genre_train_loss 2.8116\n",
      "genre_train_accuracy 30.0\n",
      "genre_val_loss 2.9671\n",
      "genre_val_accuracy 25.0\n",
      "genre_test_loss 3.1407\n",
      "genre_test_accuracy 22.0\n"
     ]
    },
    {
     "name": "stderr",
     "output_type": "stream",
     "text": [
      "  6%|▌         | 11/200 [00:39<11:12,  3.56s/it]"
     ]
    },
    {
     "name": "stdout",
     "output_type": "stream",
     "text": [
      "genre_train_loss 2.6591\n",
      "genre_train_accuracy 37.0\n",
      "genre_val_loss 2.8233\n",
      "genre_val_accuracy 31.0\n",
      "genre_test_loss 3.0179\n",
      "genre_test_accuracy 27.0\n"
     ]
    },
    {
     "name": "stderr",
     "output_type": "stream",
     "text": [
      "  6%|▌         | 12/200 [00:43<11:24,  3.64s/it]"
     ]
    },
    {
     "name": "stdout",
     "output_type": "stream",
     "text": [
      "genre_train_loss 2.5141\n",
      "genre_train_accuracy 43.0\n",
      "genre_val_loss 2.6847\n",
      "genre_val_accuracy 37.0\n",
      "genre_test_loss 2.9018\n",
      "genre_test_accuracy 32.0\n"
     ]
    },
    {
     "name": "stderr",
     "output_type": "stream",
     "text": [
      "  6%|▋         | 13/200 [00:46<11:00,  3.53s/it]"
     ]
    },
    {
     "name": "stdout",
     "output_type": "stream",
     "text": [
      "genre_train_loss 2.3767\n",
      "genre_train_accuracy 49.0\n",
      "genre_val_loss 2.5508\n",
      "genre_val_accuracy 43.0\n",
      "genre_test_loss 2.7916\n",
      "genre_test_accuracy 37.0\n"
     ]
    },
    {
     "name": "stderr",
     "output_type": "stream",
     "text": [
      "  7%|▋         | 14/200 [00:49<10:38,  3.43s/it]"
     ]
    },
    {
     "name": "stdout",
     "output_type": "stream",
     "text": [
      "genre_train_loss 2.2468\n",
      "genre_train_accuracy 54.0\n",
      "genre_val_loss 2.4229\n",
      "genre_val_accuracy 48.0\n",
      "genre_test_loss 2.6887\n",
      "genre_test_accuracy 41.0\n"
     ]
    },
    {
     "name": "stderr",
     "output_type": "stream",
     "text": [
      "  8%|▊         | 15/200 [00:53<10:46,  3.50s/it]"
     ]
    },
    {
     "name": "stdout",
     "output_type": "stream",
     "text": [
      "genre_train_loss 2.1256\n",
      "genre_train_accuracy 57.99999999999999\n",
      "genre_val_loss 2.301\n",
      "genre_val_accuracy 53.0\n",
      "genre_test_loss 2.5931\n",
      "genre_test_accuracy 45.0\n"
     ]
    },
    {
     "name": "stderr",
     "output_type": "stream",
     "text": [
      "  8%|▊         | 16/200 [00:56<10:47,  3.52s/it]"
     ]
    },
    {
     "name": "stdout",
     "output_type": "stream",
     "text": [
      "genre_train_loss 2.0119\n",
      "genre_train_accuracy 62.0\n",
      "genre_val_loss 2.1858\n",
      "genre_val_accuracy 56.99999999999999\n",
      "genre_test_loss 2.5043\n",
      "genre_test_accuracy 48.0\n"
     ]
    },
    {
     "name": "stderr",
     "output_type": "stream",
     "text": [
      "  8%|▊         | 17/200 [01:00<10:40,  3.50s/it]"
     ]
    },
    {
     "name": "stdout",
     "output_type": "stream",
     "text": [
      "genre_train_loss 1.9051\n",
      "genre_train_accuracy 65.0\n",
      "genre_val_loss 2.076\n",
      "genre_val_accuracy 61.0\n",
      "genre_test_loss 2.421\n",
      "genre_test_accuracy 50.0\n"
     ]
    },
    {
     "name": "stderr",
     "output_type": "stream",
     "text": [
      "  9%|▉         | 18/200 [01:03<10:24,  3.43s/it]"
     ]
    },
    {
     "name": "stdout",
     "output_type": "stream",
     "text": [
      "genre_train_loss 1.8053\n",
      "genre_train_accuracy 67.0\n",
      "genre_val_loss 1.9688\n",
      "genre_val_accuracy 64.0\n",
      "genre_test_loss 2.3409\n",
      "genre_test_accuracy 52.0\n"
     ]
    },
    {
     "name": "stderr",
     "output_type": "stream",
     "text": [
      " 10%|▉         | 19/200 [01:06<10:22,  3.44s/it]"
     ]
    },
    {
     "name": "stdout",
     "output_type": "stream",
     "text": [
      "genre_train_loss 1.7122\n",
      "genre_train_accuracy 69.0\n",
      "genre_val_loss 1.8668\n",
      "genre_val_accuracy 67.0\n",
      "genre_test_loss 2.2665\n",
      "genre_test_accuracy 54.0\n"
     ]
    },
    {
     "name": "stderr",
     "output_type": "stream",
     "text": [
      " 10%|█         | 20/200 [01:10<10:13,  3.41s/it]"
     ]
    },
    {
     "name": "stdout",
     "output_type": "stream",
     "text": [
      "genre_train_loss 1.6258\n",
      "genre_train_accuracy 71.0\n",
      "genre_val_loss 1.7702\n",
      "genre_val_accuracy 69.0\n",
      "genre_test_loss 2.198\n",
      "genre_test_accuracy 56.00000000000001\n"
     ]
    },
    {
     "name": "stderr",
     "output_type": "stream",
     "text": [
      " 10%|█         | 21/200 [01:13<09:56,  3.33s/it]"
     ]
    },
    {
     "name": "stdout",
     "output_type": "stream",
     "text": [
      "genre_train_loss 1.5458\n",
      "genre_train_accuracy 73.0\n",
      "genre_val_loss 1.6791\n",
      "genre_val_accuracy 71.0\n",
      "genre_test_loss 2.135\n",
      "genre_test_accuracy 56.99999999999999\n"
     ]
    },
    {
     "name": "stderr",
     "output_type": "stream",
     "text": [
      " 11%|█         | 22/200 [01:16<09:53,  3.34s/it]"
     ]
    },
    {
     "name": "stdout",
     "output_type": "stream",
     "text": [
      "genre_train_loss 1.4719\n",
      "genre_train_accuracy 74.0\n",
      "genre_val_loss 1.5938\n",
      "genre_val_accuracy 73.0\n",
      "genre_test_loss 2.0779\n",
      "genre_test_accuracy 57.99999999999999\n"
     ]
    },
    {
     "name": "stderr",
     "output_type": "stream",
     "text": [
      " 12%|█▏        | 23/200 [01:20<09:50,  3.33s/it]"
     ]
    },
    {
     "name": "stdout",
     "output_type": "stream",
     "text": [
      "genre_train_loss 1.4036\n",
      "genre_train_accuracy 75.0\n",
      "genre_val_loss 1.5144\n",
      "genre_val_accuracy 74.0\n",
      "genre_test_loss 2.0266\n",
      "genre_test_accuracy 59.0\n"
     ]
    },
    {
     "name": "stderr",
     "output_type": "stream",
     "text": [
      " 12%|█▏        | 24/200 [01:23<09:59,  3.41s/it]"
     ]
    },
    {
     "name": "stdout",
     "output_type": "stream",
     "text": [
      "genre_train_loss 1.3404\n",
      "genre_train_accuracy 76.0\n",
      "genre_val_loss 1.44\n",
      "genre_val_accuracy 76.0\n",
      "genre_test_loss 1.9806\n",
      "genre_test_accuracy 59.0\n"
     ]
    },
    {
     "name": "stderr",
     "output_type": "stream",
     "text": [
      " 12%|█▎        | 25/200 [01:27<10:12,  3.50s/it]"
     ]
    },
    {
     "name": "stdout",
     "output_type": "stream",
     "text": [
      "genre_train_loss 1.2819\n",
      "genre_train_accuracy 77.0\n",
      "genre_val_loss 1.3708\n",
      "genre_val_accuracy 77.0\n",
      "genre_test_loss 1.9394\n",
      "genre_test_accuracy 60.0\n"
     ]
    },
    {
     "name": "stderr",
     "output_type": "stream",
     "text": [
      " 13%|█▎        | 26/200 [01:30<10:00,  3.45s/it]"
     ]
    },
    {
     "name": "stdout",
     "output_type": "stream",
     "text": [
      "genre_train_loss 1.2277\n",
      "genre_train_accuracy 78.0\n",
      "genre_val_loss 1.3064\n",
      "genre_val_accuracy 78.0\n",
      "genre_test_loss 1.9029\n",
      "genre_test_accuracy 60.0\n"
     ]
    },
    {
     "name": "stderr",
     "output_type": "stream",
     "text": [
      " 14%|█▎        | 27/200 [01:34<10:00,  3.47s/it]"
     ]
    },
    {
     "name": "stdout",
     "output_type": "stream",
     "text": [
      "genre_train_loss 1.1775\n",
      "genre_train_accuracy 79.0\n",
      "genre_val_loss 1.2471\n",
      "genre_val_accuracy 78.0\n",
      "genre_test_loss 1.8709\n",
      "genre_test_accuracy 61.0\n"
     ]
    },
    {
     "name": "stderr",
     "output_type": "stream",
     "text": [
      " 14%|█▍        | 28/200 [01:37<09:45,  3.40s/it]"
     ]
    },
    {
     "name": "stdout",
     "output_type": "stream",
     "text": [
      "genre_train_loss 1.1309\n",
      "genre_train_accuracy 79.0\n",
      "genre_val_loss 1.1923\n",
      "genre_val_accuracy 79.0\n",
      "genre_test_loss 1.843\n",
      "genre_test_accuracy 61.0\n"
     ]
    },
    {
     "name": "stderr",
     "output_type": "stream",
     "text": [
      " 14%|█▍        | 29/200 [01:40<09:37,  3.37s/it]"
     ]
    },
    {
     "name": "stdout",
     "output_type": "stream",
     "text": [
      "genre_train_loss 1.0878\n",
      "genre_train_accuracy 80.0\n",
      "genre_val_loss 1.1417\n",
      "genre_val_accuracy 80.0\n",
      "genre_test_loss 1.8189\n",
      "genre_test_accuracy 61.0\n"
     ]
    },
    {
     "name": "stderr",
     "output_type": "stream",
     "text": [
      " 15%|█▌        | 30/200 [01:44<09:53,  3.49s/it]"
     ]
    },
    {
     "name": "stdout",
     "output_type": "stream",
     "text": [
      "genre_train_loss 1.0477\n",
      "genre_train_accuracy 80.0\n",
      "genre_val_loss 1.0948\n",
      "genre_val_accuracy 81.0\n",
      "genre_test_loss 1.7982\n",
      "genre_test_accuracy 62.0\n"
     ]
    },
    {
     "name": "stderr",
     "output_type": "stream",
     "text": [
      " 16%|█▌        | 31/200 [01:48<10:11,  3.62s/it]"
     ]
    },
    {
     "name": "stdout",
     "output_type": "stream",
     "text": [
      "genre_train_loss 1.0102\n",
      "genre_train_accuracy 81.0\n",
      "genre_val_loss 1.0511\n",
      "genre_val_accuracy 81.0\n",
      "genre_test_loss 1.7803\n",
      "genre_test_accuracy 62.0\n"
     ]
    },
    {
     "name": "stderr",
     "output_type": "stream",
     "text": [
      " 16%|█▌        | 32/200 [01:51<09:51,  3.52s/it]"
     ]
    },
    {
     "name": "stdout",
     "output_type": "stream",
     "text": [
      "genre_train_loss 0.9749\n",
      "genre_train_accuracy 82.0\n",
      "genre_val_loss 1.0105\n",
      "genre_val_accuracy 82.0\n",
      "genre_test_loss 1.7649\n",
      "genre_test_accuracy 62.0\n"
     ]
    },
    {
     "name": "stderr",
     "output_type": "stream",
     "text": [
      " 16%|█▋        | 33/200 [01:54<09:33,  3.44s/it]"
     ]
    },
    {
     "name": "stdout",
     "output_type": "stream",
     "text": [
      "genre_train_loss 0.9418\n",
      "genre_train_accuracy 82.0\n",
      "genre_val_loss 0.9726\n",
      "genre_val_accuracy 83.0\n",
      "genre_test_loss 1.7518\n",
      "genre_test_accuracy 62.0\n"
     ]
    },
    {
     "name": "stderr",
     "output_type": "stream",
     "text": [
      " 17%|█▋        | 34/200 [01:58<09:15,  3.35s/it]"
     ]
    },
    {
     "name": "stdout",
     "output_type": "stream",
     "text": [
      "genre_train_loss 0.9104\n",
      "genre_train_accuracy 83.0\n",
      "genre_val_loss 0.9372\n",
      "genre_val_accuracy 83.0\n",
      "genre_test_loss 1.7405\n",
      "genre_test_accuracy 62.0\n"
     ]
    },
    {
     "name": "stderr",
     "output_type": "stream",
     "text": [
      " 18%|█▊        | 35/200 [02:01<09:23,  3.42s/it]"
     ]
    },
    {
     "name": "stdout",
     "output_type": "stream",
     "text": [
      "genre_train_loss 0.8808\n",
      "genre_train_accuracy 83.0\n",
      "genre_val_loss 0.9039\n",
      "genre_val_accuracy 84.0\n",
      "genre_test_loss 1.7307\n",
      "genre_test_accuracy 63.0\n"
     ]
    },
    {
     "name": "stderr",
     "output_type": "stream",
     "text": [
      " 18%|█▊        | 36/200 [02:05<09:29,  3.47s/it]"
     ]
    },
    {
     "name": "stdout",
     "output_type": "stream",
     "text": [
      "genre_train_loss 0.8527\n",
      "genre_train_accuracy 84.0\n",
      "genre_val_loss 0.8727\n",
      "genre_val_accuracy 84.0\n",
      "genre_test_loss 1.7222\n",
      "genre_test_accuracy 63.0\n"
     ]
    },
    {
     "name": "stderr",
     "output_type": "stream",
     "text": [
      " 18%|█▊        | 37/200 [02:08<09:19,  3.43s/it]"
     ]
    },
    {
     "name": "stdout",
     "output_type": "stream",
     "text": [
      "genre_train_loss 0.826\n",
      "genre_train_accuracy 85.0\n",
      "genre_val_loss 0.8432\n",
      "genre_val_accuracy 85.0\n",
      "genre_test_loss 1.715\n",
      "genre_test_accuracy 63.0\n"
     ]
    },
    {
     "name": "stderr",
     "output_type": "stream",
     "text": [
      " 19%|█▉        | 38/200 [02:12<09:24,  3.48s/it]"
     ]
    },
    {
     "name": "stdout",
     "output_type": "stream",
     "text": [
      "genre_train_loss 0.8008\n",
      "genre_train_accuracy 85.0\n",
      "genre_val_loss 0.8154\n",
      "genre_val_accuracy 85.0\n",
      "genre_test_loss 1.7088\n",
      "genre_test_accuracy 64.0\n"
     ]
    },
    {
     "name": "stderr",
     "output_type": "stream",
     "text": [
      " 20%|█▉        | 39/200 [02:15<09:16,  3.46s/it]"
     ]
    },
    {
     "name": "stdout",
     "output_type": "stream",
     "text": [
      "genre_train_loss 0.7768\n",
      "genre_train_accuracy 86.0\n",
      "genre_val_loss 0.7892\n",
      "genre_val_accuracy 86.0\n",
      "genre_test_loss 1.7037\n",
      "genre_test_accuracy 64.0\n"
     ]
    },
    {
     "name": "stderr",
     "output_type": "stream",
     "text": [
      " 20%|██        | 40/200 [02:19<09:16,  3.48s/it]"
     ]
    },
    {
     "name": "stdout",
     "output_type": "stream",
     "text": [
      "genre_train_loss 0.754\n",
      "genre_train_accuracy 86.0\n",
      "genre_val_loss 0.7644\n",
      "genre_val_accuracy 86.0\n",
      "genre_test_loss 1.6993\n",
      "genre_test_accuracy 64.0\n"
     ]
    },
    {
     "name": "stderr",
     "output_type": "stream",
     "text": [
      " 20%|██        | 41/200 [02:22<09:16,  3.50s/it]"
     ]
    },
    {
     "name": "stdout",
     "output_type": "stream",
     "text": [
      "genre_train_loss 0.7323\n",
      "genre_train_accuracy 87.0\n",
      "genre_val_loss 0.7409\n",
      "genre_val_accuracy 87.0\n",
      "genre_test_loss 1.6958\n",
      "genre_test_accuracy 64.0\n"
     ]
    },
    {
     "name": "stderr",
     "output_type": "stream",
     "text": [
      " 21%|██        | 42/200 [02:26<09:16,  3.52s/it]"
     ]
    },
    {
     "name": "stdout",
     "output_type": "stream",
     "text": [
      "genre_train_loss 0.7116\n",
      "genre_train_accuracy 87.0\n",
      "genre_val_loss 0.7186\n",
      "genre_val_accuracy 87.0\n",
      "genre_test_loss 1.6929\n",
      "genre_test_accuracy 64.0\n"
     ]
    },
    {
     "name": "stderr",
     "output_type": "stream",
     "text": [
      " 22%|██▏       | 43/200 [02:29<09:04,  3.47s/it]"
     ]
    },
    {
     "name": "stdout",
     "output_type": "stream",
     "text": [
      "genre_train_loss 0.692\n",
      "genre_train_accuracy 88.0\n",
      "genre_val_loss 0.6976\n",
      "genre_val_accuracy 88.0\n",
      "genre_test_loss 1.6907\n",
      "genre_test_accuracy 64.0\n"
     ]
    },
    {
     "name": "stderr",
     "output_type": "stream",
     "text": [
      " 22%|██▏       | 44/200 [02:32<08:45,  3.37s/it]"
     ]
    },
    {
     "name": "stdout",
     "output_type": "stream",
     "text": [
      "genre_train_loss 0.6732\n",
      "genre_train_accuracy 88.0\n",
      "genre_val_loss 0.6776\n",
      "genre_val_accuracy 88.0\n",
      "genre_test_loss 1.6891\n",
      "genre_test_accuracy 65.0\n"
     ]
    },
    {
     "name": "stderr",
     "output_type": "stream",
     "text": [
      " 22%|██▎       | 45/200 [02:35<08:24,  3.26s/it]"
     ]
    },
    {
     "name": "stdout",
     "output_type": "stream",
     "text": [
      "genre_train_loss 0.6553\n",
      "genre_train_accuracy 88.0\n",
      "genre_val_loss 0.6586\n",
      "genre_val_accuracy 88.0\n",
      "genre_test_loss 1.6879\n",
      "genre_test_accuracy 65.0\n"
     ]
    },
    {
     "name": "stderr",
     "output_type": "stream",
     "text": [
      " 23%|██▎       | 46/200 [02:38<08:05,  3.15s/it]"
     ]
    },
    {
     "name": "stdout",
     "output_type": "stream",
     "text": [
      "genre_train_loss 0.6382\n",
      "genre_train_accuracy 89.0\n",
      "genre_val_loss 0.6406\n",
      "genre_val_accuracy 89.0\n",
      "genre_test_loss 1.6871\n",
      "genre_test_accuracy 65.0\n"
     ]
    },
    {
     "name": "stderr",
     "output_type": "stream",
     "text": [
      " 24%|██▎       | 47/200 [02:41<07:53,  3.10s/it]"
     ]
    },
    {
     "name": "stdout",
     "output_type": "stream",
     "text": [
      "genre_train_loss 0.6218\n",
      "genre_train_accuracy 89.0\n",
      "genre_val_loss 0.6236\n",
      "genre_val_accuracy 89.0\n",
      "genre_test_loss 1.6866\n",
      "genre_test_accuracy 65.0\n"
     ]
    },
    {
     "name": "stderr",
     "output_type": "stream",
     "text": [
      " 24%|██▍       | 48/200 [02:44<07:48,  3.08s/it]"
     ]
    },
    {
     "name": "stdout",
     "output_type": "stream",
     "text": [
      "genre_train_loss 0.6062\n",
      "genre_train_accuracy 89.0\n",
      "genre_val_loss 0.6074\n",
      "genre_val_accuracy 89.0\n",
      "genre_test_loss 1.6865\n",
      "genre_test_accuracy 65.0\n"
     ]
    },
    {
     "name": "stderr",
     "output_type": "stream",
     "text": [
      " 24%|██▍       | 49/200 [02:47<07:40,  3.05s/it]"
     ]
    },
    {
     "name": "stdout",
     "output_type": "stream",
     "text": [
      "genre_train_loss 0.5912\n",
      "genre_train_accuracy 90.0\n",
      "genre_val_loss 0.5919\n",
      "genre_val_accuracy 90.0\n",
      "genre_test_loss 1.6867\n",
      "genre_test_accuracy 65.0\n"
     ]
    },
    {
     "name": "stderr",
     "output_type": "stream",
     "text": [
      " 25%|██▌       | 50/200 [02:50<07:34,  3.03s/it]"
     ]
    },
    {
     "name": "stdout",
     "output_type": "stream",
     "text": [
      "genre_train_loss 0.5768\n",
      "genre_train_accuracy 90.0\n",
      "genre_val_loss 0.5771\n",
      "genre_val_accuracy 90.0\n",
      "genre_test_loss 1.6872\n",
      "genre_test_accuracy 65.0\n"
     ]
    },
    {
     "name": "stderr",
     "output_type": "stream",
     "text": [
      " 26%|██▌       | 51/200 [02:53<07:43,  3.11s/it]"
     ]
    },
    {
     "name": "stdout",
     "output_type": "stream",
     "text": [
      "genre_train_loss 0.5629\n",
      "genre_train_accuracy 90.0\n",
      "genre_val_loss 0.5629\n",
      "genre_val_accuracy 91.0\n",
      "genre_test_loss 1.688\n",
      "genre_test_accuracy 65.0\n"
     ]
    },
    {
     "name": "stderr",
     "output_type": "stream",
     "text": [
      " 26%|██▌       | 52/200 [02:57<07:48,  3.17s/it]"
     ]
    },
    {
     "name": "stdout",
     "output_type": "stream",
     "text": [
      "genre_train_loss 0.5496\n",
      "genre_train_accuracy 91.0\n",
      "genre_val_loss 0.5493\n",
      "genre_val_accuracy 91.0\n",
      "genre_test_loss 1.689\n",
      "genre_test_accuracy 65.0\n"
     ]
    },
    {
     "name": "stderr",
     "output_type": "stream",
     "text": [
      " 26%|██▋       | 53/200 [03:00<08:05,  3.30s/it]"
     ]
    },
    {
     "name": "stdout",
     "output_type": "stream",
     "text": [
      "genre_train_loss 0.5367\n",
      "genre_train_accuracy 91.0\n",
      "genre_val_loss 0.5362\n",
      "genre_val_accuracy 91.0\n",
      "genre_test_loss 1.6902\n",
      "genre_test_accuracy 66.0\n"
     ]
    },
    {
     "name": "stderr",
     "output_type": "stream",
     "text": [
      " 27%|██▋       | 54/200 [03:04<08:03,  3.31s/it]"
     ]
    },
    {
     "name": "stdout",
     "output_type": "stream",
     "text": [
      "genre_train_loss 0.5243\n",
      "genre_train_accuracy 91.0\n",
      "genre_val_loss 0.5237\n",
      "genre_val_accuracy 91.0\n",
      "genre_test_loss 1.6917\n",
      "genre_test_accuracy 66.0\n"
     ]
    },
    {
     "name": "stderr",
     "output_type": "stream",
     "text": [
      " 28%|██▊       | 55/200 [03:07<07:57,  3.29s/it]"
     ]
    },
    {
     "name": "stdout",
     "output_type": "stream",
     "text": [
      "genre_train_loss 0.5124\n",
      "genre_train_accuracy 91.0\n",
      "genre_val_loss 0.5116\n",
      "genre_val_accuracy 92.0\n",
      "genre_test_loss 1.6933\n",
      "genre_test_accuracy 66.0\n"
     ]
    },
    {
     "name": "stderr",
     "output_type": "stream",
     "text": [
      " 28%|██▊       | 56/200 [03:10<07:42,  3.21s/it]"
     ]
    },
    {
     "name": "stdout",
     "output_type": "stream",
     "text": [
      "genre_train_loss 0.5008\n",
      "genre_train_accuracy 92.0\n",
      "genre_val_loss 0.5\n",
      "genre_val_accuracy 92.0\n",
      "genre_test_loss 1.6951\n",
      "genre_test_accuracy 66.0\n"
     ]
    },
    {
     "name": "stderr",
     "output_type": "stream",
     "text": [
      " 28%|██▊       | 57/200 [03:13<07:34,  3.18s/it]"
     ]
    },
    {
     "name": "stdout",
     "output_type": "stream",
     "text": [
      "genre_train_loss 0.4895\n",
      "genre_train_accuracy 92.0\n",
      "genre_val_loss 0.4888\n",
      "genre_val_accuracy 92.0\n",
      "genre_test_loss 1.6971\n",
      "genre_test_accuracy 66.0\n"
     ]
    },
    {
     "name": "stderr",
     "output_type": "stream",
     "text": [
      " 29%|██▉       | 58/200 [03:16<07:36,  3.22s/it]"
     ]
    },
    {
     "name": "stdout",
     "output_type": "stream",
     "text": [
      "genre_train_loss 0.4786\n",
      "genre_train_accuracy 92.0\n",
      "genre_val_loss 0.478\n",
      "genre_val_accuracy 92.0\n",
      "genre_test_loss 1.6993\n",
      "genre_test_accuracy 66.0\n"
     ]
    },
    {
     "name": "stderr",
     "output_type": "stream",
     "text": [
      " 30%|██▉       | 59/200 [03:20<07:53,  3.36s/it]"
     ]
    },
    {
     "name": "stdout",
     "output_type": "stream",
     "text": [
      "genre_train_loss 0.468\n",
      "genre_train_accuracy 92.0\n",
      "genre_val_loss 0.4675\n",
      "genre_val_accuracy 93.0\n",
      "genre_test_loss 1.7016\n",
      "genre_test_accuracy 66.0\n"
     ]
    },
    {
     "name": "stderr",
     "output_type": "stream",
     "text": [
      " 30%|███       | 60/200 [03:24<08:04,  3.46s/it]"
     ]
    },
    {
     "name": "stdout",
     "output_type": "stream",
     "text": [
      "genre_train_loss 0.4577\n",
      "genre_train_accuracy 93.0\n",
      "genre_val_loss 0.4573\n",
      "genre_val_accuracy 93.0\n",
      "genre_test_loss 1.7042\n",
      "genre_test_accuracy 66.0\n"
     ]
    },
    {
     "name": "stderr",
     "output_type": "stream",
     "text": [
      " 30%|███       | 61/200 [03:27<07:37,  3.29s/it]"
     ]
    },
    {
     "name": "stdout",
     "output_type": "stream",
     "text": [
      "genre_train_loss 0.4476\n",
      "genre_train_accuracy 93.0\n",
      "genre_val_loss 0.4475\n",
      "genre_val_accuracy 93.0\n",
      "genre_test_loss 1.7069\n",
      "genre_test_accuracy 66.0\n"
     ]
    },
    {
     "name": "stderr",
     "output_type": "stream",
     "text": [
      " 31%|███       | 62/200 [03:30<07:25,  3.23s/it]"
     ]
    },
    {
     "name": "stdout",
     "output_type": "stream",
     "text": [
      "genre_train_loss 0.4378\n",
      "genre_train_accuracy 93.0\n",
      "genre_val_loss 0.438\n",
      "genre_val_accuracy 93.0\n",
      "genre_test_loss 1.7098\n",
      "genre_test_accuracy 66.0\n"
     ]
    },
    {
     "name": "stderr",
     "output_type": "stream",
     "text": [
      " 32%|███▏      | 63/200 [03:33<07:38,  3.34s/it]"
     ]
    },
    {
     "name": "stdout",
     "output_type": "stream",
     "text": [
      "genre_train_loss 0.4282\n",
      "genre_train_accuracy 93.0\n",
      "genre_val_loss 0.4286\n",
      "genre_val_accuracy 94.0\n",
      "genre_test_loss 1.7128\n",
      "genre_test_accuracy 66.0\n"
     ]
    },
    {
     "name": "stderr",
     "output_type": "stream",
     "text": [
      " 32%|███▏      | 64/200 [03:37<07:33,  3.34s/it]"
     ]
    },
    {
     "name": "stdout",
     "output_type": "stream",
     "text": [
      "genre_train_loss 0.4189\n",
      "genre_train_accuracy 94.0\n",
      "genre_val_loss 0.4195\n",
      "genre_val_accuracy 94.0\n",
      "genre_test_loss 1.716\n",
      "genre_test_accuracy 66.0\n"
     ]
    },
    {
     "name": "stderr",
     "output_type": "stream",
     "text": [
      " 32%|███▎      | 65/200 [03:40<07:41,  3.42s/it]"
     ]
    },
    {
     "name": "stdout",
     "output_type": "stream",
     "text": [
      "genre_train_loss 0.4098\n",
      "genre_train_accuracy 94.0\n",
      "genre_val_loss 0.4106\n",
      "genre_val_accuracy 94.0\n",
      "genre_test_loss 1.7192\n",
      "genre_test_accuracy 66.0\n"
     ]
    },
    {
     "name": "stderr",
     "output_type": "stream",
     "text": [
      " 33%|███▎      | 66/200 [03:44<07:33,  3.38s/it]"
     ]
    },
    {
     "name": "stdout",
     "output_type": "stream",
     "text": [
      "genre_train_loss 0.4008\n",
      "genre_train_accuracy 94.0\n",
      "genre_val_loss 0.4019\n",
      "genre_val_accuracy 94.0\n",
      "genre_test_loss 1.7226\n",
      "genre_test_accuracy 66.0\n"
     ]
    },
    {
     "name": "stderr",
     "output_type": "stream",
     "text": [
      " 34%|███▎      | 67/200 [03:47<07:40,  3.46s/it]"
     ]
    },
    {
     "name": "stdout",
     "output_type": "stream",
     "text": [
      "genre_train_loss 0.3921\n",
      "genre_train_accuracy 94.0\n",
      "genre_val_loss 0.3934\n",
      "genre_val_accuracy 94.0\n",
      "genre_test_loss 1.7261\n",
      "genre_test_accuracy 66.0\n"
     ]
    },
    {
     "name": "stderr",
     "output_type": "stream",
     "text": [
      " 34%|███▍      | 68/200 [03:51<07:58,  3.62s/it]"
     ]
    },
    {
     "name": "stdout",
     "output_type": "stream",
     "text": [
      "genre_train_loss 0.3836\n",
      "genre_train_accuracy 94.0\n",
      "genre_val_loss 0.3851\n",
      "genre_val_accuracy 94.0\n",
      "genre_test_loss 1.7297\n",
      "genre_test_accuracy 66.0\n"
     ]
    },
    {
     "name": "stderr",
     "output_type": "stream",
     "text": [
      " 34%|███▍      | 69/200 [03:55<07:49,  3.58s/it]"
     ]
    },
    {
     "name": "stdout",
     "output_type": "stream",
     "text": [
      "genre_train_loss 0.3754\n",
      "genre_train_accuracy 95.0\n",
      "genre_val_loss 0.3771\n",
      "genre_val_accuracy 95.0\n",
      "genre_test_loss 1.7334\n",
      "genre_test_accuracy 66.0\n"
     ]
    },
    {
     "name": "stderr",
     "output_type": "stream",
     "text": [
      " 35%|███▌      | 70/200 [03:58<07:25,  3.43s/it]"
     ]
    },
    {
     "name": "stdout",
     "output_type": "stream",
     "text": [
      "genre_train_loss 0.3673\n",
      "genre_train_accuracy 95.0\n",
      "genre_val_loss 0.3692\n",
      "genre_val_accuracy 95.0\n",
      "genre_test_loss 1.7373\n",
      "genre_test_accuracy 66.0\n"
     ]
    },
    {
     "name": "stderr",
     "output_type": "stream",
     "text": [
      " 36%|███▌      | 71/200 [04:01<07:09,  3.33s/it]"
     ]
    },
    {
     "name": "stdout",
     "output_type": "stream",
     "text": [
      "genre_train_loss 0.3593\n",
      "genre_train_accuracy 95.0\n",
      "genre_val_loss 0.3615\n",
      "genre_val_accuracy 95.0\n",
      "genre_test_loss 1.7413\n",
      "genre_test_accuracy 66.0\n"
     ]
    },
    {
     "name": "stderr",
     "output_type": "stream",
     "text": [
      " 36%|███▌      | 72/200 [04:04<06:59,  3.28s/it]"
     ]
    },
    {
     "name": "stdout",
     "output_type": "stream",
     "text": [
      "genre_train_loss 0.3516\n",
      "genre_train_accuracy 95.0\n",
      "genre_val_loss 0.354\n",
      "genre_val_accuracy 95.0\n",
      "genre_test_loss 1.7455\n",
      "genre_test_accuracy 66.0\n"
     ]
    },
    {
     "name": "stderr",
     "output_type": "stream",
     "text": [
      " 36%|███▋      | 73/200 [04:07<06:47,  3.21s/it]"
     ]
    },
    {
     "name": "stdout",
     "output_type": "stream",
     "text": [
      "genre_train_loss 0.344\n",
      "genre_train_accuracy 95.0\n",
      "genre_val_loss 0.3468\n",
      "genre_val_accuracy 95.0\n",
      "genre_test_loss 1.7497\n",
      "genre_test_accuracy 66.0\n"
     ]
    },
    {
     "name": "stderr",
     "output_type": "stream",
     "text": [
      " 37%|███▋      | 74/200 [04:10<06:37,  3.16s/it]"
     ]
    },
    {
     "name": "stdout",
     "output_type": "stream",
     "text": [
      "genre_train_loss 0.3365\n",
      "genre_train_accuracy 95.0\n",
      "genre_val_loss 0.3396\n",
      "genre_val_accuracy 96.0\n",
      "genre_test_loss 1.7541\n",
      "genre_test_accuracy 66.0\n"
     ]
    },
    {
     "name": "stderr",
     "output_type": "stream",
     "text": [
      " 38%|███▊      | 75/200 [04:13<06:29,  3.11s/it]"
     ]
    },
    {
     "name": "stdout",
     "output_type": "stream",
     "text": [
      "genre_train_loss 0.3293\n",
      "genre_train_accuracy 96.0\n",
      "genre_val_loss 0.3327\n",
      "genre_val_accuracy 96.0\n",
      "genre_test_loss 1.7586\n",
      "genre_test_accuracy 66.0\n"
     ]
    },
    {
     "name": "stderr",
     "output_type": "stream",
     "text": [
      " 38%|███▊      | 76/200 [04:16<06:22,  3.09s/it]"
     ]
    },
    {
     "name": "stdout",
     "output_type": "stream",
     "text": [
      "genre_train_loss 0.3222\n",
      "genre_train_accuracy 96.0\n",
      "genre_val_loss 0.3259\n",
      "genre_val_accuracy 96.0\n",
      "genre_test_loss 1.7631\n",
      "genre_test_accuracy 66.0\n"
     ]
    },
    {
     "name": "stderr",
     "output_type": "stream",
     "text": [
      " 38%|███▊      | 77/200 [04:19<06:14,  3.05s/it]"
     ]
    },
    {
     "name": "stdout",
     "output_type": "stream",
     "text": [
      "genre_train_loss 0.3152\n",
      "genre_train_accuracy 96.0\n",
      "genre_val_loss 0.3193\n",
      "genre_val_accuracy 96.0\n",
      "genre_test_loss 1.7678\n",
      "genre_test_accuracy 66.0\n"
     ]
    },
    {
     "name": "stderr",
     "output_type": "stream",
     "text": [
      " 39%|███▉      | 78/200 [04:22<06:10,  3.04s/it]"
     ]
    },
    {
     "name": "stdout",
     "output_type": "stream",
     "text": [
      "genre_train_loss 0.3084\n",
      "genre_train_accuracy 96.0\n",
      "genre_val_loss 0.3129\n",
      "genre_val_accuracy 96.0\n",
      "genre_test_loss 1.7725\n",
      "genre_test_accuracy 66.0\n"
     ]
    },
    {
     "name": "stderr",
     "output_type": "stream",
     "text": [
      " 40%|███▉      | 79/200 [04:25<06:05,  3.02s/it]"
     ]
    },
    {
     "name": "stdout",
     "output_type": "stream",
     "text": [
      "genre_train_loss 0.3017\n",
      "genre_train_accuracy 96.0\n",
      "genre_val_loss 0.3066\n",
      "genre_val_accuracy 96.0\n",
      "genre_test_loss 1.7773\n",
      "genre_test_accuracy 66.0\n"
     ]
    },
    {
     "name": "stderr",
     "output_type": "stream",
     "text": [
      " 40%|████      | 80/200 [04:28<06:04,  3.04s/it]"
     ]
    },
    {
     "name": "stdout",
     "output_type": "stream",
     "text": [
      "genre_train_loss 0.2952\n",
      "genre_train_accuracy 96.0\n",
      "genre_val_loss 0.3004\n",
      "genre_val_accuracy 97.0\n",
      "genre_test_loss 1.7821\n",
      "genre_test_accuracy 66.0\n"
     ]
    },
    {
     "name": "stderr",
     "output_type": "stream",
     "text": [
      " 40%|████      | 81/200 [04:31<06:00,  3.03s/it]"
     ]
    },
    {
     "name": "stdout",
     "output_type": "stream",
     "text": [
      "genre_train_loss 0.2888\n",
      "genre_train_accuracy 96.0\n",
      "genre_val_loss 0.2943\n",
      "genre_val_accuracy 97.0\n",
      "genre_test_loss 1.787\n",
      "genre_test_accuracy 66.0\n"
     ]
    },
    {
     "name": "stderr",
     "output_type": "stream",
     "text": [
      " 41%|████      | 82/200 [04:34<05:58,  3.03s/it]"
     ]
    },
    {
     "name": "stdout",
     "output_type": "stream",
     "text": [
      "genre_train_loss 0.2825\n",
      "genre_train_accuracy 96.0\n",
      "genre_val_loss 0.2883\n",
      "genre_val_accuracy 97.0\n",
      "genre_test_loss 1.792\n",
      "genre_test_accuracy 66.0\n"
     ]
    },
    {
     "name": "stderr",
     "output_type": "stream",
     "text": [
      " 42%|████▏     | 83/200 [04:37<05:55,  3.04s/it]"
     ]
    },
    {
     "name": "stdout",
     "output_type": "stream",
     "text": [
      "genre_train_loss 0.2764\n",
      "genre_train_accuracy 96.0\n",
      "genre_val_loss 0.2825\n",
      "genre_val_accuracy 97.0\n",
      "genre_test_loss 1.7969\n",
      "genre_test_accuracy 66.0\n"
     ]
    },
    {
     "name": "stderr",
     "output_type": "stream",
     "text": [
      " 42%|████▏     | 84/200 [04:40<05:51,  3.03s/it]"
     ]
    },
    {
     "name": "stdout",
     "output_type": "stream",
     "text": [
      "genre_train_loss 0.2704\n",
      "genre_train_accuracy 97.0\n",
      "genre_val_loss 0.2768\n",
      "genre_val_accuracy 97.0\n",
      "genre_test_loss 1.8019\n",
      "genre_test_accuracy 66.0\n"
     ]
    },
    {
     "name": "stderr",
     "output_type": "stream",
     "text": [
      " 42%|████▎     | 85/200 [04:44<06:05,  3.17s/it]"
     ]
    },
    {
     "name": "stdout",
     "output_type": "stream",
     "text": [
      "genre_train_loss 0.2645\n",
      "genre_train_accuracy 97.0\n",
      "genre_val_loss 0.2712\n",
      "genre_val_accuracy 97.0\n",
      "genre_test_loss 1.8069\n",
      "genre_test_accuracy 66.0\n"
     ]
    },
    {
     "name": "stderr",
     "output_type": "stream",
     "text": [
      " 43%|████▎     | 86/200 [04:48<06:24,  3.38s/it]"
     ]
    },
    {
     "name": "stdout",
     "output_type": "stream",
     "text": [
      "genre_train_loss 0.2588\n",
      "genre_train_accuracy 97.0\n",
      "genre_val_loss 0.2657\n",
      "genre_val_accuracy 97.0\n",
      "genre_test_loss 1.8119\n",
      "genre_test_accuracy 66.0\n"
     ]
    },
    {
     "name": "stderr",
     "output_type": "stream",
     "text": [
      " 44%|████▎     | 87/200 [04:51<06:27,  3.43s/it]"
     ]
    },
    {
     "name": "stdout",
     "output_type": "stream",
     "text": [
      "genre_train_loss 0.2532\n",
      "genre_train_accuracy 97.0\n",
      "genre_val_loss 0.2603\n",
      "genre_val_accuracy 97.0\n",
      "genre_test_loss 1.8169\n",
      "genre_test_accuracy 66.0\n"
     ]
    },
    {
     "name": "stderr",
     "output_type": "stream",
     "text": [
      " 44%|████▍     | 88/200 [04:55<06:34,  3.53s/it]"
     ]
    },
    {
     "name": "stdout",
     "output_type": "stream",
     "text": [
      "genre_train_loss 0.2478\n",
      "genre_train_accuracy 97.0\n",
      "genre_val_loss 0.255\n",
      "genre_val_accuracy 97.0\n",
      "genre_test_loss 1.822\n",
      "genre_test_accuracy 66.0\n"
     ]
    },
    {
     "name": "stderr",
     "output_type": "stream",
     "text": [
      " 44%|████▍     | 89/200 [04:59<06:44,  3.64s/it]"
     ]
    },
    {
     "name": "stdout",
     "output_type": "stream",
     "text": [
      "genre_train_loss 0.2425\n",
      "genre_train_accuracy 97.0\n",
      "genre_val_loss 0.2499\n",
      "genre_val_accuracy 98.0\n",
      "genre_test_loss 1.8271\n",
      "genre_test_accuracy 66.0\n"
     ]
    },
    {
     "name": "stderr",
     "output_type": "stream",
     "text": [
      " 45%|████▌     | 90/200 [05:03<06:48,  3.71s/it]"
     ]
    },
    {
     "name": "stdout",
     "output_type": "stream",
     "text": [
      "genre_train_loss 0.2373\n",
      "genre_train_accuracy 97.0\n",
      "genre_val_loss 0.2448\n",
      "genre_val_accuracy 98.0\n",
      "genre_test_loss 1.8324\n",
      "genre_test_accuracy 66.0\n"
     ]
    },
    {
     "name": "stderr",
     "output_type": "stream",
     "text": [
      " 46%|████▌     | 91/200 [05:07<06:59,  3.85s/it]"
     ]
    },
    {
     "name": "stdout",
     "output_type": "stream",
     "text": [
      "genre_train_loss 0.2323\n",
      "genre_train_accuracy 97.0\n",
      "genre_val_loss 0.2399\n",
      "genre_val_accuracy 98.0\n",
      "genre_test_loss 1.8377\n",
      "genre_test_accuracy 66.0\n"
     ]
    },
    {
     "name": "stderr",
     "output_type": "stream",
     "text": [
      " 46%|████▌     | 92/200 [05:11<07:15,  4.03s/it]"
     ]
    },
    {
     "name": "stdout",
     "output_type": "stream",
     "text": [
      "genre_train_loss 0.2274\n",
      "genre_train_accuracy 97.0\n",
      "genre_val_loss 0.2351\n",
      "genre_val_accuracy 98.0\n",
      "genre_test_loss 1.8432\n",
      "genre_test_accuracy 66.0\n"
     ]
    }
   ],
   "source": [
    "for epoch in tqdm(range(0, args.epochs)):\n",
    "    out, train_losses, train_accuracies = gcn.hetero_training()\n",
    "    val_losses, val_accuracies, test_losses, test_accuracies = gcn.hetero_test()\n",
    "    if args.mode == 'multi_task':\n",
    "        if args.epochs % 10 == 0:\n",
    "            for i, train_loss_acc in enumerate(zip(train_losses, train_accuracies)):\n",
    "                print(f'{gcn.map_id2labels[i]}_train_loss', round(train_loss_acc[0].detach().item(), 4))\n",
    "                print(f'{gcn.map_id2labels[i]}_train_accuracy', round(train_loss_acc[1].item(), 2) * 100)\n",
    "            for i, val_loss_acc in enumerate(zip(val_losses, val_accuracies)):\n",
    "                print(f'{gcn.map_id2labels[i]}_val_loss', round(val_loss_acc[0].detach().item(), 4))\n",
    "                print(f'{gcn.map_id2labels[i]}_val_accuracy', round(val_loss_acc[1].item(), 2) * 100)\n",
    "            for i, test_loss_acc in enumerate(zip(test_losses, test_accuracies)):\n",
    "                print(f'{gcn.map_id2labels[i]}_test_loss', round(test_loss_acc[0].detach().item(), 4))\n",
    "                print(f'{gcn.map_id2labels[i]}_test_accuracy', round(test_loss_acc[1].item(), 2) * 100)\n",
    "    if args.mode == 'single_task':\n",
    "        if args.epochs % 10 == 0:\n",
    "            print(f'{args.label}_train_loss', round(train_losses[0].detach().item(), 4))\n",
    "            print(f'{args.label}_train_accuracy', round(train_accuracies[0].item(), 2) * 100)\n",
    "            print(f'{args.label}_val_loss', round(val_losses[0].detach().item(), 4))\n",
    "            print(f'{args.label}_val_accuracy', round(val_accuracies[0].item(), 2) * 100)\n",
    "            print(f'{args.label}_test_loss', round(test_losses[0].detach().item(), 4))\n",
    "            print(f'{args.label}_test_accuracy', round(test_accuracies[0].item(), 2) * 100)"
   ]
  },
  {
   "cell_type": "code",
   "execution_count": null,
   "metadata": {},
   "outputs": [],
   "source": []
  }
 ],
 "metadata": {
  "interpreter": {
   "hash": "b4cd95a69bfd7a84355187b639ae3e32d243eaa398007ea827fe1dce7201cea5"
  },
  "kernelspec": {
   "display_name": "Python 3.9.7 64-bit ('thesis-project': conda)",
   "name": "python3"
  },
  "language_info": {
   "codemirror_mode": {
    "name": "ipython",
    "version": 3
   },
   "file_extension": ".py",
   "mimetype": "text/x-python",
   "name": "python",
   "nbconvert_exporter": "python",
   "pygments_lexer": "ipython3",
   "version": "3.9.7"
  },
  "orig_nbformat": 4
 },
 "nbformat": 4,
 "nbformat_minor": 2
}
